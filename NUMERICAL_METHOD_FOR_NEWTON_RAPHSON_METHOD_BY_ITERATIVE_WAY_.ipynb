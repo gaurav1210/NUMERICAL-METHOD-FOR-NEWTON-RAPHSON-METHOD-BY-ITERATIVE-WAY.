{
  "cells": [
    {
      "cell_type": "markdown",
      "metadata": {
        "id": "view-in-github",
        "colab_type": "text"
      },
      "source": [
        "<a href=\"https://colab.research.google.com/github/gaurav1210/NUMERICAL-METHOD-FOR-NEWTON-RAPHSON-METHOD-BY-ITERATIVE-WAY./blob/main/NUMERICAL_METHOD_FOR_NEWTON_RAPHSON_METHOD_BY_ITERATIVE_WAY_.ipynb\" target=\"_parent\"><img src=\"https://colab.research.google.com/assets/colab-badge.svg\" alt=\"Open In Colab\"/></a>"
      ]
    },
    {
      "cell_type": "markdown",
      "metadata": {
        "id": "Za6kV6-bXpFa"
      },
      "source": [
        "**Numerical Methods**\n",
        "\n",
        "Numerical Roots Finding topics\n",
        "\n",
        "1. Iterative Methods $\\\\$\n",
        "2. Convergent Methods"
      ]
    },
    {
      "cell_type": "code",
      "execution_count": null,
      "metadata": {
        "id": "Wh2pQUtsXpFb"
      },
      "outputs": [],
      "source": [
        "'''Import the libraries'''\n",
        "import numpy as np                                                              # Importing the numpy library for array manipulation\n",
        "import matplotlib.pyplot as plt                                                 # Importing the matplotlib library for plotting the graph\n",
        "from typing import Tuple, List                                                  # Importing the typing library for type hinting\n",
        "import time                                                                     # Importing the time library for measuring the time taken to execute the code\n"
      ]
    },
    {
      "cell_type": "markdown",
      "metadata": {
        "id": "PbLz4cvmXpFb"
      },
      "source": [
        "**Question 1: Iterative Methods: Fixed Point, Secant Method, Newton Raphson** $\\\\$\n",
        "**Convergent Methods: Bisection, Regula Falsi** $\\\\$\n",
        "\n",
        "(a) Fixed Point Iteration method: $x_{k+1} = F (x_k)$\n",
        "\n",
        "- For the function $f(x) = 1 - (x-1)^2$, will have roots at x = 0 and 2. Plot the function in the range [-3,3].\n",
        "- Write a fixed point function to compute the roots. Show that x = 0 is a diverging root, while x = 2 is converging.\n",
        "\n",
        "(b) Bisection Method: Write a function to apply the bisection method, and find the roots in the intervals [-3,0.5] and [0.5,3]\n",
        "\n",
        "(c) Regula Falsi: Repeat step (b) for Regula Falsi\n",
        "\n",
        "(d) Secant Method:\n",
        "\n",
        "(e) Newton Raphson: Divide the interval [-3,3] in the step of 20 and take these as initial conditions to 20 approximation on the roots.\n",
        "Plot the root approximation vs initial conditions\n"
      ]
    },
    {
      "cell_type": "code",
      "execution_count": null,
      "metadata": {
        "colab": {
          "base_uri": "https://localhost:8080/",
          "height": 472
        },
        "id": "M3GwwaYQXpFb",
        "outputId": "eec0527a-9084-4697-ff70-9140971b2c8d"
      },
      "outputs": [
        {
          "output_type": "display_data",
          "data": {
            "text/plain": [
              "<Figure size 640x480 with 1 Axes>"
            ],
            "image/png": "[encoded data removed]"
          },
          "metadata": {}
        }
      ],
      "source": [
        "# Answer 1a: Fixed Point (Iterative)\n",
        "\n",
        "def f(x):\n",
        "    return 1 - (x - 1)**2\n",
        "\n",
        "def fixedp(given_function, x0, min_error=0.001, max_iteration=3) -> Tuple[float, List]:\n",
        "    \"\"\" Fixed point algorithm \"\"\"\n",
        "    #start_time = time.time_ns()\n",
        "    i = 0\n",
        "    error = 1\n",
        "    xp = []\n",
        "    x = None\n",
        "    while error > min_error and i < max_iteration:\n",
        "        x = given_function(x0)\n",
        "        error = abs(x0 - x)\n",
        "        x0 = x\n",
        "        xp.append(x0)\n",
        "        i += 1\n",
        "    #print((time.time_ns() - start_time)*1.e9, \"nano seconds\")\n",
        "    print(xp)\n",
        "    return x, xp\n",
        "\n",
        "# Plot the function\n",
        "x = np.linspace(-3, 3)\n",
        "plt.plot(x, f(x))\n",
        "plt.xlabel(\"x\")\n",
        "plt.ylabel(\"f(x)\")\n",
        "plt.title(\"Plot of f(x) = 1 - (x-1)^2\")\n",
        "plt.grid(True)\n",
        "plt.show()\n"
      ]
    },
    {
      "cell_type": "code",
      "source": [
        "def g1(x):\n",
        "    return np.sqrt(1-f(x)) + 1                                                                                         # Rearrange f(x) to isolate x to test diverging root\n",
        "root_0, iterations_0 = fixedp(g1, 0.1, max_iteration=10)                                                               # Start at 0.1 to avoid sqrt of negative number\n",
        "print(f\"Fixed Point Iteration for x=0 (diverging): Root approximation = {root_0}, Iterations = {iterations_0}\")\n",
        "def g2(x):                                                                                                             # Fixed point iteration for x = 2 (converging root)\n",
        "  return np.sqrt(1-f(x)) + 1\n",
        "\n",
        "root_2, iterations_2 = fixedp(g2, 1.9, max_iteration=10)                                                               # Start near the root\n",
        "print(f\"Fixed Point Iteration for x=2 (converging): Root approximation = {root_2}, Iterations = {iterations_2}\")"
      ],
      "metadata": {
        "colab": {
          "base_uri": "https://localhost:8080/"
        },
        "id": "tJ5XpX0FfDfN",
        "outputId": "c70ffc15-6be6-47d4-9930-1f33c073f262"
      },
      "execution_count": null,
      "outputs": [
        {
          "output_type": "stream",
          "name": "stdout",
          "text": [
            "[1.9, 1.9]\n",
            "Fixed Point Iteration for x=0 (diverging): Root approximation = 1.9, Iterations = [1.9, 1.9]\n",
            "[1.9]\n",
            "Fixed Point Iteration for x=2 (converging): Root approximation = 1.9, Iterations = [1.9]\n"
          ]
        }
      ]
    },
    {
      "cell_type": "code",
      "execution_count": null,
      "metadata": {
        "id": "5y36UjqWXpFc",
        "outputId": "3b4d98a9-aad4-4a10-b51e-41ba2f07aea8",
        "colab": {
          "base_uri": "https://localhost:8080/"
        }
      },
      "outputs": [
        {
          "output_type": "stream",
          "name": "stdout",
          "text": [
            "The value of root is :  0.000977\n",
            "The value of root is :  1.994141\n"
          ]
        }
      ],
      "source": [
        "# Answer 1b: Bisection Method (Covergent)\n",
        "\n",
        "\n",
        "EPSILON = 0.01\n",
        "\n",
        "def func(x):\n",
        "\treturn 1 - (x - 1)**2\n",
        "\n",
        "# Prints root of func(x)\n",
        "# with error of EPSILON\n",
        "def bisection(a,b):\n",
        "\n",
        "\tif (func(a) * func(b) >= 0):\n",
        "\t\tprint(\"You have not assumed right a and b\\n\")\n",
        "\t\treturn\n",
        "\n",
        "\tc = a\n",
        "\twhile ((b-a) >= 0.01):\n",
        "\n",
        "\t\t# Find middle point\n",
        "\t\tc = (a+b)/2\n",
        "\n",
        "\t\t# Check if middle point is root\n",
        "\t\tif (func(c) == 0.0):\n",
        "\t\t\tbreak\n",
        "\n",
        "\t\t# Decide the side to repeat the steps\n",
        "\t\tif (func(c)*func(a) < 0):\n",
        "\t\t\tb = c\n",
        "\t\telse:\n",
        "\t\t\ta = c\n",
        "\n",
        "\tprint(\"The value of root is : \",\"%.6f\"%c)\n",
        "\n",
        "bisection(-3, 0.5)\n",
        "bisection(0.5, 3)\n"
      ]
    },
    {
      "cell_type": "code",
      "execution_count": null,
      "metadata": {
        "id": "8JRuy72sXpFc",
        "outputId": "2e365991-b51c-49c6-9205-b78d54de2e2d",
        "colab": {
          "base_uri": "https://localhost:8080/"
        }
      },
      "outputs": [
        {
          "output_type": "stream",
          "name": "stdout",
          "text": [
            "The value of root is :  0.0000\n",
            "The value of root is :  2.0000\n"
          ]
        }
      ],
      "source": [
        "# Answer 1c: Regular Falsi Method. (Convergent)\n",
        "\n",
        "MAX_ITER = 1000\n",
        "# Prints root of func(x) in interval [a, b]\n",
        "def regulaFalsi( a , b):\n",
        "    if func(a) * func(b) >= 0:\n",
        "        print(\"You have not assumed right a and b\")\n",
        "        return -1\n",
        "\n",
        "    c = a # Initialize result\n",
        "\n",
        "    for i in range(MAX_ITER):\n",
        "\n",
        "        # Find the point that touches x axis\n",
        "        c = (a * func(b) - b * func(a))/ (func(b) - func(a))\n",
        "\n",
        "        # Check if the above found point is root\n",
        "        if func(c) == 0:\n",
        "            break\n",
        "\n",
        "        # Decide the side to repeat the steps\n",
        "        elif func(c) * func(a) < 0:\n",
        "            b = c\n",
        "        else:\n",
        "            a = c\n",
        "    print(\"The value of root is : \" , '%.4f' %c)\n",
        "\n",
        "regulaFalsi(-3, 0.5)\n",
        "regulaFalsi(0.5, 3)\n"
      ]
    },
    {
      "cell_type": "code",
      "execution_count": null,
      "metadata": {
        "id": "Rrc_IJkgXpFc",
        "outputId": "15e27acf-fc79-4940-9b6d-b3e0bbbf7fbe",
        "colab": {
          "base_uri": "https://localhost:8080/"
        }
      },
      "outputs": [
        {
          "output_type": "stream",
          "name": "stdout",
          "text": [
            "Can not find a root in  the given interval\n",
            "Root of the given equation = 2.000001\n",
            "No. of iterations =  6\n"
          ]
        }
      ],
      "source": [
        "# Answer 1d: Secant method (Iterative)\n",
        "\n",
        "def f(x):\n",
        "    return 1 - (x - 1)**2\n",
        "\n",
        "\n",
        "def secant(x1, x2, E):\n",
        "\tn = 0; xm = 0; x0 = 0; c = 0;\n",
        "\tif (f(x1) * f(x2) < 0):\n",
        "\t\twhile True:\n",
        "\n",
        "\t\t\t# calculate the intermediate value\n",
        "\t\t\tx0 = ((x1 * f(x2) - x2 * f(x1)) /\n",
        "\t\t\t\t\t\t\t(f(x2) - f(x1)));\n",
        "\n",
        "\t\t\t# check if x0 is root of\n",
        "\t\t\t# equation or not\n",
        "\t\t\tc = f(x1) * f(x0);\n",
        "\n",
        "\t\t\t# update the value of interval\n",
        "\t\t\tx1 = x2;\n",
        "\t\t\tx2 = x0;\n",
        "\n",
        "\t\t\t# update number of iteration\n",
        "\t\t\tn += 1;\n",
        "\n",
        "\t\t\t# if x0 is the root of equation\n",
        "\t\t\t# then break the loop\n",
        "\t\t\tif (c == 0):\n",
        "\t\t\t\tbreak;\n",
        "\t\t\txm = ((x1 * f(x2) - x2 * f(x1)) /\n",
        "\t\t\t\t\t\t\t(f(x2) - f(x1)));\n",
        "\n",
        "\t\t\tif(abs(xm - x0) < E):\n",
        "\t\t\t\tbreak;\n",
        "\n",
        "\t\tprint(\"Root of the given equation =\",\n",
        "\t\t\t\t\t\t\tround(x0, 6));\n",
        "\t\tprint(\"No. of iterations = \", n);\n",
        "\n",
        "\telse:\n",
        "\t\tprint(\"Can not find a root in \",\n",
        "\t\t\t\t\"the given interval\");\n",
        "\n",
        "secant(-1, 0, 0.0001)\n",
        "secant(1, 3, 0.0001)\n",
        "\n"
      ]
    },
    {
      "cell_type": "code",
      "execution_count": null,
      "metadata": {
        "id": "ZMhPdcqAXpFc",
        "outputId": "8f1e23da-ebd0-43b8-c55b-7134dab4b716",
        "colab": {
          "base_uri": "https://localhost:8080/",
          "height": 854
        }
      },
      "outputs": [
        {
          "output_type": "stream",
          "name": "stdout",
          "text": [
            "The value of the root is :  -0.00000000000000114019\n",
            "The value of the root is :  2.00000000001310729303\n",
            "The value of the root is :  -0.00000000000001257365\n",
            "The value of the root is :  -0.00000000000000064709\n",
            "The value of the root is :  -0.00000000000000001130\n",
            "The value of the root is :  -0.00000000070371076872\n",
            "The value of the root is :  -0.00000000004499974806\n",
            "The value of the root is :  -0.00000000000123444870\n",
            "The value of the root is :  -0.00000000000000879783\n",
            "The value of the root is :  -0.00000000338903633869\n",
            "The value of the root is :  -0.00000000000653641180\n",
            "The value of the root is :  -0.00000000164334672622\n",
            "The value of the root is :  0.00000000000000004004\n",
            "The value of the root is :  -0.00000000000000020249\n",
            "The value of the root is :  -0.00000000000263214604\n",
            "The value of the root is :  2.00000000000358424401\n",
            "The value of the root is :  2.00000000000066346928\n",
            "The value of the root is :  2.00000000000015409896\n",
            "The value of the root is :  2.00000000000037347903\n",
            "The value of the root is :  2.00000000000023492319\n",
            "The value of the root is :  2.00000000063533223127\n",
            "The value of the root is :  2.00000000000000088818\n"
          ]
        },
        {
          "output_type": "display_data",
          "data": {
            "text/plain": [
              "<Figure size 640x480 with 1 Axes>"
            ],
            "image/png": "[encoded data removed]"
          },
          "metadata": {}
        }
      ],
      "source": [
        "# Answer 1e: Newton - Raphson (Iterative)\n",
        "\n",
        "def derivFunc( x ):\n",
        "    return -2 * (x - 1)\n",
        "# Function to find the root\n",
        "def newtonRaphson( x ):\n",
        "    h = func(x) / derivFunc(x)\n",
        "    while abs(h) >= 0.0001:\n",
        "        h = func(x)/derivFunc(x)\n",
        "\n",
        "        # x(i+1) = x(i) - f(x) / f'(x)\n",
        "        x = x - h\n",
        "\n",
        "    print(\"The value of the root is : \",\n",
        "                             \"%.20f\"% x)\n",
        "    return x\n",
        "\n",
        "newtonRaphson(0.5)\n",
        "newtonRaphson(2.5)\n",
        "\n",
        "initial_conditions = np.linspace(-3, 3, 20)\n",
        "root_approximations = []\n",
        "\n",
        "for x0 in initial_conditions:\n",
        "    root_approximations.append(newtonRaphson(x0))\n",
        "plt.plot(initial_conditions, root_approximations, marker='o', linestyle='-')\n",
        "plt.xlabel(\"Initial Conditions\")\n",
        "plt.ylabel(\"Root Approximations\")\n",
        "plt.title(\"Newton-Raphson Method: Root Approximations vs. Initial Conditions\")\n",
        "plt.grid(True)\n",
        "plt.show()\n",
        "\n"
      ]
    }
  ],
  "metadata": {
    "kernelspec": {
      "display_name": "spa623",
      "language": "python",
      "name": "python3"
    },
    "language_info": {
      "codemirror_mode": {
        "name": "ipython",
        "version": 3
      },
      "file_extension": ".py",
      "mimetype": "text/x-python",
      "name": "python",
      "nbconvert_exporter": "python",
      "pygments_lexer": "ipython3",
      "version": "3.9.18"
    },
    "colab": {
      "provenance": [],
      "include_colab_link": true
    }
  },
  "nbformat": 4,
  "nbformat_minor": 0
}